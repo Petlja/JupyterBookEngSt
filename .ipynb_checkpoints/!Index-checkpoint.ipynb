{
 "cells": [
  {
   "cell_type": "markdown",
   "metadata": {},
   "source": [
    "# Introduction to Data Science\n",
    "\n",
    "This is an _Introduction to Data Science_. In ten lectures we overview and demonstrate a set of basic skills that everyone needs in order to visualize data and perform some fundamental data analysis. The idea of this handbook is to demonstrate how, with a little bit of _Python_ programming, from a conveniently represented data you can get a new quality -- information. This handbook is written in _Jupyter_, which is an interactive environment ideal for experimenting with snippets of Python code.\n",
    "\n",
    "Although our programming language of choice is Python, this handbook is _not_ meant to teach Python programming. The goal of this hanbook is to demonstrate basic skills needed for data visualisation and data analysis, while the programming language is just a tool that makes it possible for us to formulate out ideas precisely and apply them on concrete examples. Python is a modern programming language that is constantly being upgraded and regularly maintained, and which is free to use. That makes it a convenient choice.\n",
    "\n",
    "* [1. Introduction to Jupyter](eJ01.html)\n",
    "* [2. Sequences of data and line charts](eJ02.html)\n",
    "* [3. Bar charts and colors](eJ03.ipynb)\n",
    "* [4. The average and the median of a sequence of numbers](eJ04.html)\n",
    "* [5. Frequency analysis and pie charts](eJ05.html)\n",
    "* [6. Representing data as tables](eJ06.html)\n",
    "* [7. Indexing and transposing a table](eJ07.html)\n",
    "* [8. Modifying tables and writing to files](eJ08.html)\n",
    "* [9. Sorting, filtering and frequency analysis](eJ09.html)\n",
    "* [10. Jupyter and Excel](eJ10.html)"
   ]
  }
 ],
 "metadata": {
  "kernelspec": {
   "display_name": "Python 3",
   "language": "python",
   "name": "python3"
  },
  "language_info": {
   "codemirror_mode": {
    "name": "ipython",
    "version": 3
   },
   "file_extension": ".py",
   "mimetype": "text/x-python",
   "name": "python",
   "nbconvert_exporter": "python",
   "pygments_lexer": "ipython3",
   "version": "3.7.3"
  }
 },
 "nbformat": 4,
 "nbformat_minor": 2
}
