{
 "cells": [
  {
   "cell_type": "markdown",
   "metadata": {},
   "source": [
    "# 10. Jupyter and Excel\n",
    "\n",
    "In this lecture we will talk abot:\n",
    "1. the relationship between Jupyter and Microsoft Excel;\n",
    "2. loading tables from Excel files; and\n",
    "3. writing tables to Excel files."
   ]
  },
  {
   "cell_type": "markdown",
   "metadata": {},
   "source": [
    "## 10.1. Why Jupyter, and why Excel\n",
    "\n",
    "Microsoft Excel is the most popular spreadsheet program in the world. It owes its popularity to the fact that the table you are working on is right there in front of you, you can see it, you can click on a cell and enter a value or a formula. It is a typical representative of the _What You See Is What You Get_ philosophy. So, why did we decide to focus this course on Jupyter?\n",
    "\n",
    "* _Price._ Microsoft Excel is a commercial product -- it costs money. In contrast to that Python, all of its accompanying libraries and Jupyter as the interactive environment are _free of charge_.\n",
    "\n",
    "* _Clearly visible procedures._ Data processing in Microsoft Excell consists of entering formulas into cells. If you are working with a table with intricate relationships between cells expressed by many complicated formulas spread out over the entire worksheet, it soon becomes almost impossible to track the flow of information and, more importantly, to understand, debug and improve the process. On the other hand, if the processing is expressed in terms of a programming language (such as Python), we do lose the _What You See Is What You Get_ approach of Excel but gain much more in readability of the code. A clear procedure located in one place (a Jupyter cell or a Python file) and coded in a simple and expressive programming language can easily be checkt for errors, upgraded and shared.\n",
    "\n",
    "* _Flexibility._ Microsoft Excel is convenient for processing tables that are relatively small so that they can easily fit onto a few computer screens. Once you find yourself in the position where you have to process _huge_ tables with thousands of rows and columns the advantages of scripting languages become obvious. Moreover, each Python distribution comes with a large entourage of libraries where most of the standard data processing algorithms have already been implemented.\n",
    "\n",
    "Using clearly visible procedures that are _not_ mingling with the data to be analyzed is the most efficient way to process data. This is the corner-stone of any approach to modern data processing."
   ]
  },
  {
   "cell_type": "markdown",
   "metadata": {},
   "source": [
    "## 10.2. Loading tables from local Excel files\n",
    "\n",
    "Each Excel document consists of several _worksheets_. Each worksheet is a table which can be accessed through its name:\n",
    "\n",
    "![Worksheets](pics/Excel.jpg)\n",
    "\n",
    "Because Microsoft Excel is the most popular spreadsheet program in the world the _pandas_ library has a way to load a worksheet of an Excel document into a DataFrame. If an Excel document consists of several worksheets, we have to load it as several DataFrames -- one DataFrame per worksheet.\n",
    "\n",
    "For example, the file _data/Additives.xlsx_ has a single worksheet \"E-numbers\" which we load into a DataFrame straightforwardly:"
   ]
  },
  {
   "cell_type": "code",
   "execution_count": 1,
   "metadata": {},
   "outputs": [],
   "source": [
    "import pandas as pd\n",
    "additives = pd.read_excel(\"data/Additives.xlsx\", sheet_name=\"E-numbers\")"
   ]
  },
  {
   "cell_type": "markdown",
   "metadata": {},
   "source": [
    "This file contains some basic information about additives, which are substances used in food industry to preserve food or enhance its color and taste. Let us peek at the table:"
   ]
  },
  {
   "cell_type": "code",
   "execution_count": 2,
   "metadata": {},
   "outputs": [
    {
     "data": {
      "text/html": [
       "<div>\n",
       "<style scoped>\n",
       "    .dataframe tbody tr th:only-of-type {\n",
       "        vertical-align: middle;\n",
       "    }\n",
       "\n",
       "    .dataframe tbody tr th {\n",
       "        vertical-align: top;\n",
       "    }\n",
       "\n",
       "    .dataframe thead th {\n",
       "        text-align: right;\n",
       "    }\n",
       "</style>\n",
       "<table border=\"1\" class=\"dataframe\">\n",
       "  <thead>\n",
       "    <tr style=\"text-align: right;\">\n",
       "      <th></th>\n",
       "      <th>E-number</th>\n",
       "      <th>Status</th>\n",
       "      <th>Comment</th>\n",
       "    </tr>\n",
       "  </thead>\n",
       "  <tbody>\n",
       "    <tr>\n",
       "      <th>0</th>\n",
       "      <td>100</td>\n",
       "      <td>harmless</td>\n",
       "      <td>NaN</td>\n",
       "    </tr>\n",
       "    <tr>\n",
       "      <th>1</th>\n",
       "      <td>101</td>\n",
       "      <td>harmless</td>\n",
       "      <td>NaN</td>\n",
       "    </tr>\n",
       "    <tr>\n",
       "      <th>2</th>\n",
       "      <td>102</td>\n",
       "      <td>DANGEROUS</td>\n",
       "      <td>NaN</td>\n",
       "    </tr>\n",
       "    <tr>\n",
       "      <th>3</th>\n",
       "      <td>104</td>\n",
       "      <td>harmless</td>\n",
       "      <td>NaN</td>\n",
       "    </tr>\n",
       "    <tr>\n",
       "      <th>4</th>\n",
       "      <td>105</td>\n",
       "      <td>harmless</td>\n",
       "      <td>NaN</td>\n",
       "    </tr>\n",
       "    <tr>\n",
       "      <th>5</th>\n",
       "      <td>110</td>\n",
       "      <td>DANGEROUS</td>\n",
       "      <td>NaN</td>\n",
       "    </tr>\n",
       "    <tr>\n",
       "      <th>6</th>\n",
       "      <td>111</td>\n",
       "      <td>harmless</td>\n",
       "      <td>NaN</td>\n",
       "    </tr>\n",
       "    <tr>\n",
       "      <th>7</th>\n",
       "      <td>120</td>\n",
       "      <td>DANGEROUS</td>\n",
       "      <td>NaN</td>\n",
       "    </tr>\n",
       "    <tr>\n",
       "      <th>8</th>\n",
       "      <td>121</td>\n",
       "      <td>harmless</td>\n",
       "      <td>NaN</td>\n",
       "    </tr>\n",
       "    <tr>\n",
       "      <th>9</th>\n",
       "      <td>123</td>\n",
       "      <td>DANGEROUS</td>\n",
       "      <td>NaN</td>\n",
       "    </tr>\n",
       "    <tr>\n",
       "      <th>10</th>\n",
       "      <td>124</td>\n",
       "      <td>DANGEROUS</td>\n",
       "      <td>NaN</td>\n",
       "    </tr>\n",
       "    <tr>\n",
       "      <th>11</th>\n",
       "      <td>125</td>\n",
       "      <td>lab trials</td>\n",
       "      <td>NaN</td>\n",
       "    </tr>\n",
       "    <tr>\n",
       "      <th>12</th>\n",
       "      <td>130</td>\n",
       "      <td>harmless</td>\n",
       "      <td>NaN</td>\n",
       "    </tr>\n",
       "    <tr>\n",
       "      <th>13</th>\n",
       "      <td>131</td>\n",
       "      <td>HARMFUL</td>\n",
       "      <td>may cause cancer</td>\n",
       "    </tr>\n",
       "    <tr>\n",
       "      <th>14</th>\n",
       "      <td>132</td>\n",
       "      <td>harmless</td>\n",
       "      <td>NaN</td>\n",
       "    </tr>\n",
       "  </tbody>\n",
       "</table>\n",
       "</div>"
      ],
      "text/plain": [
       "    E-number      Status           Comment\n",
       "0        100    harmless               NaN\n",
       "1        101    harmless               NaN\n",
       "2        102   DANGEROUS               NaN\n",
       "3        104    harmless               NaN\n",
       "4        105    harmless               NaN\n",
       "5        110   DANGEROUS               NaN\n",
       "6        111    harmless               NaN\n",
       "7        120   DANGEROUS               NaN\n",
       "8        121    harmless               NaN\n",
       "9        123   DANGEROUS               NaN\n",
       "10       124   DANGEROUS               NaN\n",
       "11       125  lab trials               NaN\n",
       "12       130    harmless               NaN\n",
       "13       131     HARMFUL  may cause cancer\n",
       "14       132    harmless               NaN"
      ]
     },
     "execution_count": 2,
     "metadata": {},
     "output_type": "execute_result"
    }
   ],
   "source": [
    "additives.head(15)"
   ]
  },
  {
   "cell_type": "markdown",
   "metadata": {},
   "source": [
    "The cells that were empty in the Excel table get a special _NaN_ value, which stands for \"not a number\". Since in our case these cells represent comments, we wish the empty cells to remain empty. So, we shall reload the table, but this time instruct the system not to complain about empty cells:"
   ]
  },
  {
   "cell_type": "code",
   "execution_count": 3,
   "metadata": {},
   "outputs": [
    {
     "data": {
      "text/html": [
       "<div>\n",
       "<style scoped>\n",
       "    .dataframe tbody tr th:only-of-type {\n",
       "        vertical-align: middle;\n",
       "    }\n",
       "\n",
       "    .dataframe tbody tr th {\n",
       "        vertical-align: top;\n",
       "    }\n",
       "\n",
       "    .dataframe thead th {\n",
       "        text-align: right;\n",
       "    }\n",
       "</style>\n",
       "<table border=\"1\" class=\"dataframe\">\n",
       "  <thead>\n",
       "    <tr style=\"text-align: right;\">\n",
       "      <th></th>\n",
       "      <th>E-number</th>\n",
       "      <th>Status</th>\n",
       "      <th>Comment</th>\n",
       "    </tr>\n",
       "  </thead>\n",
       "  <tbody>\n",
       "    <tr>\n",
       "      <th>0</th>\n",
       "      <td>100</td>\n",
       "      <td>harmless</td>\n",
       "      <td></td>\n",
       "    </tr>\n",
       "    <tr>\n",
       "      <th>1</th>\n",
       "      <td>101</td>\n",
       "      <td>harmless</td>\n",
       "      <td></td>\n",
       "    </tr>\n",
       "    <tr>\n",
       "      <th>2</th>\n",
       "      <td>102</td>\n",
       "      <td>DANGEROUS</td>\n",
       "      <td></td>\n",
       "    </tr>\n",
       "    <tr>\n",
       "      <th>3</th>\n",
       "      <td>104</td>\n",
       "      <td>harmless</td>\n",
       "      <td></td>\n",
       "    </tr>\n",
       "    <tr>\n",
       "      <th>4</th>\n",
       "      <td>105</td>\n",
       "      <td>harmless</td>\n",
       "      <td></td>\n",
       "    </tr>\n",
       "    <tr>\n",
       "      <th>5</th>\n",
       "      <td>110</td>\n",
       "      <td>DANGEROUS</td>\n",
       "      <td></td>\n",
       "    </tr>\n",
       "    <tr>\n",
       "      <th>6</th>\n",
       "      <td>111</td>\n",
       "      <td>harmless</td>\n",
       "      <td></td>\n",
       "    </tr>\n",
       "    <tr>\n",
       "      <th>7</th>\n",
       "      <td>120</td>\n",
       "      <td>DANGEROUS</td>\n",
       "      <td></td>\n",
       "    </tr>\n",
       "    <tr>\n",
       "      <th>8</th>\n",
       "      <td>121</td>\n",
       "      <td>harmless</td>\n",
       "      <td></td>\n",
       "    </tr>\n",
       "    <tr>\n",
       "      <th>9</th>\n",
       "      <td>123</td>\n",
       "      <td>DANGEROUS</td>\n",
       "      <td></td>\n",
       "    </tr>\n",
       "    <tr>\n",
       "      <th>10</th>\n",
       "      <td>124</td>\n",
       "      <td>DANGEROUS</td>\n",
       "      <td></td>\n",
       "    </tr>\n",
       "    <tr>\n",
       "      <th>11</th>\n",
       "      <td>125</td>\n",
       "      <td>lab trials</td>\n",
       "      <td></td>\n",
       "    </tr>\n",
       "    <tr>\n",
       "      <th>12</th>\n",
       "      <td>130</td>\n",
       "      <td>harmless</td>\n",
       "      <td></td>\n",
       "    </tr>\n",
       "    <tr>\n",
       "      <th>13</th>\n",
       "      <td>131</td>\n",
       "      <td>HARMFUL</td>\n",
       "      <td>may cause cancer</td>\n",
       "    </tr>\n",
       "    <tr>\n",
       "      <th>14</th>\n",
       "      <td>132</td>\n",
       "      <td>harmless</td>\n",
       "      <td></td>\n",
       "    </tr>\n",
       "  </tbody>\n",
       "</table>\n",
       "</div>"
      ],
      "text/plain": [
       "    E-number      Status           Comment\n",
       "0        100    harmless                  \n",
       "1        101    harmless                  \n",
       "2        102   DANGEROUS                  \n",
       "3        104    harmless                  \n",
       "4        105    harmless                  \n",
       "5        110   DANGEROUS                  \n",
       "6        111    harmless                  \n",
       "7        120   DANGEROUS                  \n",
       "8        121    harmless                  \n",
       "9        123   DANGEROUS                  \n",
       "10       124   DANGEROUS                  \n",
       "11       125  lab trials                  \n",
       "12       130    harmless                  \n",
       "13       131     HARMFUL  may cause cancer\n",
       "14       132    harmless                  "
      ]
     },
     "execution_count": 3,
     "metadata": {},
     "output_type": "execute_result"
    }
   ],
   "source": [
    "additives = pd.read_excel(\"data/Additives.xlsx\", sheet_name=\"E-numbers\", na_filter=False)\n",
    "additives.head(15)"
   ]
  },
  {
   "cell_type": "markdown",
   "metadata": {},
   "source": [
    "The option `na_filter=False` instructs the `read_excel` function to \"switch off artificial intelligence\" and leave empty cells empty. Let us make a frequency analysis based on the harmfulness of additives."
   ]
  },
  {
   "cell_type": "code",
   "execution_count": 4,
   "metadata": {},
   "outputs": [
    {
     "data": {
      "text/plain": [
       "HARMFUL       33\n",
       "harmless      29\n",
       "lab trials    10\n",
       "DANGEROUS      5\n",
       "Name: Status, dtype: int64"
      ]
     },
     "execution_count": 4,
     "metadata": {},
     "output_type": "execute_result"
    }
   ],
   "source": [
    "additives[\"Status\"].value_counts()"
   ]
  },
  {
   "cell_type": "markdown",
   "metadata": {},
   "source": [
    "Let us now filter the table to single out additives that may cause cancer:"
   ]
  },
  {
   "cell_type": "code",
   "execution_count": 5,
   "metadata": {},
   "outputs": [
    {
     "data": {
      "text/html": [
       "<div>\n",
       "<style scoped>\n",
       "    .dataframe tbody tr th:only-of-type {\n",
       "        vertical-align: middle;\n",
       "    }\n",
       "\n",
       "    .dataframe tbody tr th {\n",
       "        vertical-align: top;\n",
       "    }\n",
       "\n",
       "    .dataframe thead th {\n",
       "        text-align: right;\n",
       "    }\n",
       "</style>\n",
       "<table border=\"1\" class=\"dataframe\">\n",
       "  <thead>\n",
       "    <tr style=\"text-align: right;\">\n",
       "      <th></th>\n",
       "      <th>E-number</th>\n",
       "      <th>Status</th>\n",
       "      <th>Comment</th>\n",
       "    </tr>\n",
       "  </thead>\n",
       "  <tbody>\n",
       "    <tr>\n",
       "      <th>13</th>\n",
       "      <td>131</td>\n",
       "      <td>HARMFUL</td>\n",
       "      <td>may cause cancer</td>\n",
       "    </tr>\n",
       "    <tr>\n",
       "      <th>17</th>\n",
       "      <td>142</td>\n",
       "      <td>HARMFUL</td>\n",
       "      <td>may cause cancer</td>\n",
       "    </tr>\n",
       "    <tr>\n",
       "      <th>28</th>\n",
       "      <td>210</td>\n",
       "      <td>HARMFUL</td>\n",
       "      <td>may cause cancer</td>\n",
       "    </tr>\n",
       "    <tr>\n",
       "      <th>29</th>\n",
       "      <td>211</td>\n",
       "      <td>HARMFUL</td>\n",
       "      <td>may cause cancer</td>\n",
       "    </tr>\n",
       "    <tr>\n",
       "      <th>30</th>\n",
       "      <td>213</td>\n",
       "      <td>HARMFUL</td>\n",
       "      <td>may cause cancer</td>\n",
       "    </tr>\n",
       "    <tr>\n",
       "      <th>31</th>\n",
       "      <td>214</td>\n",
       "      <td>HARMFUL</td>\n",
       "      <td>may cause cancer</td>\n",
       "    </tr>\n",
       "    <tr>\n",
       "      <th>32</th>\n",
       "      <td>215</td>\n",
       "      <td>HARMFUL</td>\n",
       "      <td>may cause cancer</td>\n",
       "    </tr>\n",
       "    <tr>\n",
       "      <th>33</th>\n",
       "      <td>216</td>\n",
       "      <td>HARMFUL</td>\n",
       "      <td>may cause cancer</td>\n",
       "    </tr>\n",
       "    <tr>\n",
       "      <th>34</th>\n",
       "      <td>217</td>\n",
       "      <td>HARMFUL</td>\n",
       "      <td>may cause cancer</td>\n",
       "    </tr>\n",
       "    <tr>\n",
       "      <th>45</th>\n",
       "      <td>239</td>\n",
       "      <td>HARMFUL</td>\n",
       "      <td>may cause cancer</td>\n",
       "    </tr>\n",
       "    <tr>\n",
       "      <th>55</th>\n",
       "      <td>330</td>\n",
       "      <td>HARMFUL</td>\n",
       "      <td>may cause cancer</td>\n",
       "    </tr>\n",
       "  </tbody>\n",
       "</table>\n",
       "</div>"
      ],
      "text/plain": [
       "    E-number   Status           Comment\n",
       "13       131  HARMFUL  may cause cancer\n",
       "17       142  HARMFUL  may cause cancer\n",
       "28       210  HARMFUL  may cause cancer\n",
       "29       211  HARMFUL  may cause cancer\n",
       "30       213  HARMFUL  may cause cancer\n",
       "31       214  HARMFUL  may cause cancer\n",
       "32       215  HARMFUL  may cause cancer\n",
       "33       216  HARMFUL  may cause cancer\n",
       "34       217  HARMFUL  may cause cancer\n",
       "45       239  HARMFUL  may cause cancer\n",
       "55       330  HARMFUL  may cause cancer"
      ]
     },
     "execution_count": 5,
     "metadata": {},
     "output_type": "execute_result"
    }
   ],
   "source": [
    "additives[additives.Comment == \"may cause cancer\"]"
   ]
  },
  {
   "cell_type": "markdown",
   "metadata": {},
   "source": [
    "Finally, let us list the additives that are marked as DANGEROUS or may cause cancer. To do so we have to combine two filtering criteria:\n",
    "\n",
    "    Comment == \"may cause cancer\"  or  Status == \"DANGEROUS\" (or both)\n",
    "\n",
    "When we have to combine two criteria so that a row is included in the filtered table if at least one of the criteria is satisfied, we use the `|` connector:"
   ]
  },
  {
   "cell_type": "code",
   "execution_count": 6,
   "metadata": {},
   "outputs": [
    {
     "data": {
      "text/html": [
       "<div>\n",
       "<style scoped>\n",
       "    .dataframe tbody tr th:only-of-type {\n",
       "        vertical-align: middle;\n",
       "    }\n",
       "\n",
       "    .dataframe tbody tr th {\n",
       "        vertical-align: top;\n",
       "    }\n",
       "\n",
       "    .dataframe thead th {\n",
       "        text-align: right;\n",
       "    }\n",
       "</style>\n",
       "<table border=\"1\" class=\"dataframe\">\n",
       "  <thead>\n",
       "    <tr style=\"text-align: right;\">\n",
       "      <th></th>\n",
       "      <th>E-number</th>\n",
       "      <th>Status</th>\n",
       "      <th>Comment</th>\n",
       "    </tr>\n",
       "  </thead>\n",
       "  <tbody>\n",
       "    <tr>\n",
       "      <th>2</th>\n",
       "      <td>102</td>\n",
       "      <td>DANGEROUS</td>\n",
       "      <td></td>\n",
       "    </tr>\n",
       "    <tr>\n",
       "      <th>5</th>\n",
       "      <td>110</td>\n",
       "      <td>DANGEROUS</td>\n",
       "      <td></td>\n",
       "    </tr>\n",
       "    <tr>\n",
       "      <th>7</th>\n",
       "      <td>120</td>\n",
       "      <td>DANGEROUS</td>\n",
       "      <td></td>\n",
       "    </tr>\n",
       "    <tr>\n",
       "      <th>9</th>\n",
       "      <td>123</td>\n",
       "      <td>DANGEROUS</td>\n",
       "      <td></td>\n",
       "    </tr>\n",
       "    <tr>\n",
       "      <th>10</th>\n",
       "      <td>124</td>\n",
       "      <td>DANGEROUS</td>\n",
       "      <td></td>\n",
       "    </tr>\n",
       "    <tr>\n",
       "      <th>13</th>\n",
       "      <td>131</td>\n",
       "      <td>HARMFUL</td>\n",
       "      <td>may cause cancer</td>\n",
       "    </tr>\n",
       "    <tr>\n",
       "      <th>17</th>\n",
       "      <td>142</td>\n",
       "      <td>HARMFUL</td>\n",
       "      <td>may cause cancer</td>\n",
       "    </tr>\n",
       "    <tr>\n",
       "      <th>28</th>\n",
       "      <td>210</td>\n",
       "      <td>HARMFUL</td>\n",
       "      <td>may cause cancer</td>\n",
       "    </tr>\n",
       "    <tr>\n",
       "      <th>29</th>\n",
       "      <td>211</td>\n",
       "      <td>HARMFUL</td>\n",
       "      <td>may cause cancer</td>\n",
       "    </tr>\n",
       "    <tr>\n",
       "      <th>30</th>\n",
       "      <td>213</td>\n",
       "      <td>HARMFUL</td>\n",
       "      <td>may cause cancer</td>\n",
       "    </tr>\n",
       "    <tr>\n",
       "      <th>31</th>\n",
       "      <td>214</td>\n",
       "      <td>HARMFUL</td>\n",
       "      <td>may cause cancer</td>\n",
       "    </tr>\n",
       "    <tr>\n",
       "      <th>32</th>\n",
       "      <td>215</td>\n",
       "      <td>HARMFUL</td>\n",
       "      <td>may cause cancer</td>\n",
       "    </tr>\n",
       "    <tr>\n",
       "      <th>33</th>\n",
       "      <td>216</td>\n",
       "      <td>HARMFUL</td>\n",
       "      <td>may cause cancer</td>\n",
       "    </tr>\n",
       "    <tr>\n",
       "      <th>34</th>\n",
       "      <td>217</td>\n",
       "      <td>HARMFUL</td>\n",
       "      <td>may cause cancer</td>\n",
       "    </tr>\n",
       "    <tr>\n",
       "      <th>45</th>\n",
       "      <td>239</td>\n",
       "      <td>HARMFUL</td>\n",
       "      <td>may cause cancer</td>\n",
       "    </tr>\n",
       "    <tr>\n",
       "      <th>55</th>\n",
       "      <td>330</td>\n",
       "      <td>HARMFUL</td>\n",
       "      <td>may cause cancer</td>\n",
       "    </tr>\n",
       "  </tbody>\n",
       "</table>\n",
       "</div>"
      ],
      "text/plain": [
       "    E-number     Status           Comment\n",
       "2        102  DANGEROUS                  \n",
       "5        110  DANGEROUS                  \n",
       "7        120  DANGEROUS                  \n",
       "9        123  DANGEROUS                  \n",
       "10       124  DANGEROUS                  \n",
       "13       131    HARMFUL  may cause cancer\n",
       "17       142    HARMFUL  may cause cancer\n",
       "28       210    HARMFUL  may cause cancer\n",
       "29       211    HARMFUL  may cause cancer\n",
       "30       213    HARMFUL  may cause cancer\n",
       "31       214    HARMFUL  may cause cancer\n",
       "32       215    HARMFUL  may cause cancer\n",
       "33       216    HARMFUL  may cause cancer\n",
       "34       217    HARMFUL  may cause cancer\n",
       "45       239    HARMFUL  may cause cancer\n",
       "55       330    HARMFUL  may cause cancer"
      ]
     },
     "execution_count": 6,
     "metadata": {},
     "output_type": "execute_result"
    }
   ],
   "source": [
    "additives[(additives.Comment == \"may cause cancer\") | (additives.Status == \"DANGEROUS\")]"
   ]
  },
  {
   "cell_type": "markdown",
   "metadata": {},
   "source": [
    "## 10.3. Writing tables to Excel files\n",
    "\n",
    "Any table can be written into an Excel file just like we used to write them into _CSV_ files. The only difference is that instead ot the `to_csv` funcion we invoke the `to_excel` function. For example, let us create a table containing the list of additives that are labelled by dangerous or may cause cancer:"
   ]
  },
  {
   "cell_type": "code",
   "execution_count": 7,
   "metadata": {},
   "outputs": [],
   "source": [
    "bad_additives = additives[(additives.Comment == \"may cause cancer\") | (additives.Status == \"DANGEROUS\")]"
   ]
  },
  {
   "cell_type": "markdown",
   "metadata": {},
   "source": [
    "and let us write the table into an Excel file:"
   ]
  },
  {
   "cell_type": "code",
   "execution_count": 8,
   "metadata": {},
   "outputs": [],
   "source": [
    "bad_additives.to_excel(\"data/BadAdditives.xlsx\")"
   ]
  },
  {
   "cell_type": "markdown",
   "metadata": {},
   "source": [
    "Let's take a look at the Excel file we've just created:\n",
    "\n",
    "![Excel file](pics/BadAdditives.jpg)\n",
    "\n",
    "We see that the system has also written the index column of the table, which in this case is just a list of meaningless integers. To get rid of it, we'll write the table again, but this time using the option `index=False`:"
   ]
  },
  {
   "cell_type": "code",
   "execution_count": 9,
   "metadata": {},
   "outputs": [],
   "source": [
    "bad_additives.to_excel(\"data/BadAdditives.xlsx\", index=False)"
   ]
  },
  {
   "cell_type": "markdown",
   "metadata": {},
   "source": [
    "The new file looks like this:\n",
    "\n",
    "![Excel file](pics/BadAdditives2.jpg)\n",
    "\n",
    "That's exactly what we wanted."
   ]
  },
  {
   "cell_type": "markdown",
   "metadata": {},
   "source": [
    "## 10.4. Exercises"
   ]
  },
  {
   "cell_type": "markdown",
   "metadata": {},
   "source": [
    "**Exercise 1.** The file `data/CS201.xlsx` has an overview of marks of a group of students in Computer Science 201. The\n",
    "data is real, so the table is anonymized.\n",
    "\n",
    "_(a)_ Load this table into a DataFrame and take a look at the first few rows to understand the structure of the table (\"Hnn\" stands for \"homework nn\", \"Cn\" stands for \"colloquim n\", \"WE\" stands for \"written part of the exam\" and \"OE\" stands for \"oral oart of the exam\")."
   ]
  },
  {
   "cell_type": "markdown",
   "metadata": {},
   "source": [
    "_(b)_ Index the table by \"StudentID\"."
   ]
  },
  {
   "cell_type": "markdown",
   "metadata": {},
   "source": [
    "_(c)_ Compute the average mark on each of the colloquia (columns \"C1\", \"C2\" and \"C3\")."
   ]
  },
  {
   "cell_type": "markdown",
   "metadata": {},
   "source": [
    "_(d)_ Add a new column \"Avg\" and for each student compute the average mark and write it into the corresponding cell."
   ]
  },
  {
   "cell_type": "markdown",
   "metadata": {},
   "source": [
    "_(e)_ Add a new column \"FinalGrade\" and for each student compute the final grade based on the average mark using the following function:"
   ]
  },
  {
   "cell_type": "code",
   "execution_count": 10,
   "metadata": {},
   "outputs": [],
   "source": [
    "def final_grade(avg):\n",
    "    if avg >= 4.50:\n",
    "        return 5\n",
    "    elif avg >= 3.50:\n",
    "        return 4\n",
    "    elif avg >= 2.50:\n",
    "        return 3\n",
    "    elif avg >= 1.50:\n",
    "        return 2\n",
    "    else:\n",
    "        return 1"
   ]
  },
  {
   "cell_type": "markdown",
   "metadata": {},
   "source": [
    "_(f)_ Write the new table into the Excel file _data/CS201-FinalGrades.xlsx_"
   ]
  },
  {
   "cell_type": "markdown",
   "metadata": {},
   "source": [
    "**Exercise 2.** _Eurostat_ is an official European agency in charge of the statistical analyses of various data relevant to the development of the European Union. All the data Eurostat collects is publicly available at the following link: https://ec.europa.eu/eurostat/data/database\n",
    "\n",
    "The file _data/EUProjPop.xlsx_ contains the projection of the population of each of the EU countries 2080. The table has two worksheets: _Baseline_ containing the projected population of the EU countries, and _Migration_ containing the projected population of the EU countries in case of an increased migration.\n",
    "\n",
    "_(a)_ Load these two worksheets into to DataFrames (Baseline and Migration) and display a few rows of each table to understand the structure of the tables."
   ]
  },
  {
   "cell_type": "markdown",
   "metadata": {},
   "source": [
    "_(b)_ Add a new row \"EU\" to each of the tables and compute the projected population of the entire union for each year."
   ]
  },
  {
   "cell_type": "markdown",
   "metadata": {},
   "source": [
    "_(c)_ Add a new row to the Migration table and compute the projected migration for each of the years (subtract the row EU in the Baseline table from the row EU in the Migration table)."
   ]
  },
  {
   "cell_type": "markdown",
   "metadata": {},
   "source": [
    "_(d)_ Visualize the projected migration by a line chart."
   ]
  },
  {
   "cell_type": "markdown",
   "metadata": {},
   "source": [
    "_(e)_ Add a new row \"EU-UK\" to the Baseline table and compute the projected population of EU without the UK."
   ]
  },
  {
   "cell_type": "markdown",
   "metadata": {},
   "source": [
    "_(f)_ Write the two DataFrames to _data/EU-UK.xlsx_ and _data/EU-Migration.xlsx_"
   ]
  },
  {
   "cell_type": "markdown",
   "metadata": {},
   "source": [
    "**Exercise 3.** The file `data/Cricket.xlsx` contains the data about the best cricket players in the history of cricket."
   ]
  },
  {
   "cell_type": "markdown",
   "metadata": {},
   "source": [
    "_(a)_ Load this table into a _DataFrame_ and index it by the column \"Player\"."
   ]
  },
  {
   "cell_type": "markdown",
   "metadata": {},
   "source": [
    "_(b)_ Add new column \"YP\" (_Years Played_) to the table and compute the number of years of active playing for each player (subtract the column \"From\" from the column \"To\")."
   ]
  },
  {
   "cell_type": "markdown",
   "metadata": {},
   "source": [
    "_(c)_ Add new column \"ARY\" (_Average Runs per Year_) to the table and for each player compute the average number of runs per year (ARY = Runs / YP)."
   ]
  },
  {
   "cell_type": "markdown",
   "metadata": {},
   "source": [
    "_(d)_ Sort the table by \"ARY\" in the descending oreder and display the first 25 rows of the table. In what century were most of the top 25 players playing actively? What do you thik why?"
   ]
  }
 ],
 "metadata": {
  "kernelspec": {
   "display_name": "Python 3",
   "language": "python",
   "name": "python3"
  },
  "language_info": {
   "codemirror_mode": {
    "name": "ipython",
    "version": 3
   },
   "file_extension": ".py",
   "mimetype": "text/x-python",
   "name": "python",
   "nbconvert_exporter": "python",
   "pygments_lexer": "ipython3",
   "version": "3.7.1"
  }
 },
 "nbformat": 4,
 "nbformat_minor": 2
}
