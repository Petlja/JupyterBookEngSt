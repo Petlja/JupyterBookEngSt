{
 "cells": [
  {
   "cell_type": "markdown",
   "metadata": {},
   "source": [
    "# 1. Introduction to Jupyter\n",
    "\n",
    "In this lecture we demonstrate:\n",
    "1. what is Jupyter, how to navigate through Jupyter notebook and how to use Jupyter to evaluate Python expressions;\n",
    "2. how to use variables in Jupyter and how to execute small Python programs; and\n",
    "3. what are libraries and how to use functions provided by standard libraries."
   ]
  },
  {
   "cell_type": "markdown",
   "metadata": {},
   "source": [
    "## 1.1. Jupyter does arithmetic\n",
    "\n",
    "Jupyter is an interactive environment in which you can enter some text (just as the text you are reading right now), evaluate arithmetic expressions, run Python programs, analyze data, represent data as tables and diagrams, and much, much more.\n",
    "\n",
    "Each Jupyter _notebook_ consists of _cells_, and each cell holds some text, a math expression or a Python program. For the moment we shall refrain from explaining how to enter text into Jupyter notebook cells. Instead, we shall focus on evauating expressions and running Python programs.\n",
    "\n",
    "When you enter some expression or a Python program into a cell, the cell can be _evaluated_ by clicking the **Run** button:\n",
    "\n",
    "![Evaluating a cell](pics/JupyterMenuRun.jpg)\n",
    "\n",
    "or pressing [CTRL]+[ENTER]\n",
    "\n",
    "For example:"
   ]
  },
  {
   "cell_type": "code",
   "execution_count": 1,
   "metadata": {},
   "outputs": [
    {
     "data": {
      "text/plain": [
       "57"
      ]
     },
     "execution_count": 1,
     "metadata": {},
     "output_type": "execute_result"
    }
   ],
   "source": [
    "3 * 19"
   ]
  },
  {
   "cell_type": "code",
   "execution_count": 2,
   "metadata": {},
   "outputs": [
    {
     "data": {
      "text/plain": [
       "882"
      ]
     },
     "execution_count": 2,
     "metadata": {},
     "output_type": "execute_result"
    }
   ],
   "source": [
    "(12 + 51) * 14"
   ]
  },
  {
   "cell_type": "code",
   "execution_count": 3,
   "metadata": {},
   "outputs": [
    {
     "data": {
      "text/plain": [
       "42535295865117307932921825928971026432"
      ]
     },
     "execution_count": 3,
     "metadata": {},
     "output_type": "execute_result"
    }
   ],
   "source": [
    "2**(5**3)"
   ]
  },
  {
   "cell_type": "markdown",
   "metadata": {},
   "source": [
    "Let us recall that two asterisks in Python stand for exponentiation."
   ]
  },
  {
   "cell_type": "markdown",
   "metadata": {},
   "source": [
    "## 1.2. Jupyter can execute Python commands\n",
    "\n",
    "Sometimes it is convenient to name values, in particular in case we are talking about some complicated numbers such as $\\pi$ or some complicated expressions. We can later refer to those values by simply typing the we have given them. For example, the estimated population of the Earth on July 1st, 2019 is 7,714,576,923. Python command\n",
    "\n",
    "`WorldPopulation_2019 = 7714576923`\n",
    "\n",
    "will introduce a new variable `WorldPopulation_2019` into the system and assign to it the value `7714576923`. Let's recall: names of variables in Python _must_ start with a letter and may contain letters, digits and the special symbol `_` (underscore)."
   ]
  },
  {
   "cell_type": "code",
   "execution_count": 4,
   "metadata": {},
   "outputs": [],
   "source": [
    "WorldPopulation_2019 = 7714576923"
   ]
  },
  {
   "cell_type": "markdown",
   "metadata": {},
   "source": [
    "After running this cell you get no response from the system. The Jupyter has simply memorized that the value of the variable `WorldPopulation_2019` is 7,714,576,923. It is estimated that 27.8% of world population lives in cities. Therefore, this many people live in cities:"
   ]
  },
  {
   "cell_type": "code",
   "execution_count": 5,
   "metadata": {},
   "outputs": [
    {
     "data": {
      "text/plain": [
       "2144652384.5939999"
      ]
     },
     "execution_count": 5,
     "metadata": {},
     "output_type": "execute_result"
    }
   ],
   "source": [
    "WorldPopulation_2019 * 27.8 / 100"
   ]
  },
  {
   "cell_type": "markdown",
   "metadata": {},
   "source": [
    "Let us recall: the word _percent_ comes from Latin _pro centum_ which means \"in a hundred\". This is why\n",
    "$$\n",
    "  47\\% = \\frac{47}{100} = \\text{fourty-seven percent}.\n",
    "$$\n",
    "\n",
    "For examples, there are 856 students in a scholl and 25% of them are A students. How many A students are there in the school?\n",
    "\n",
    "_Answer._ There are 214 A students in the school because\n",
    "$$\n",
    "  856 \\cdot 25\\% = 856 \\cdot \\frac{25}{100} = 214.\n",
    "$$\n",
    "\n",
    "There are 326 B students in the same school. What percentage does that make?\n",
    "\n",
    "_Answer._ Assume this makes $x\\%$ of all the students in the school. Then\n",
    "$$\n",
    "  856 \\cdot x\\% = 856 \\cdot \\frac{x}{100} = 326.\n",
    "$$\n",
    "Solving for $x$ gives:\n",
    "$$\n",
    "  x = \\frac{326 \\cdot 100}{856} \\approx 38.08.\n",
    "$$\n",
    "Therefore, approximately $38.08\\%$ of students in the school are B students.\n",
    "\n",
    "Let us solve another problem.\n",
    "\n",
    "**Exercise.** Mary wanted to buy a pair of trousers whose price was \\\\$6,799.99 but her Mom said that that was too much. Mary waited for the sales season and next time she went to the shop the trousers were 25% off. That, together with some lower lip trembling, persuaded Mary's Mom to buy her the trousers. At the cashier the were pleasantly surprised to learn that they were eligible for an additional 3% discount on already discounted trousers. What was the final price of the trousers?"
   ]
  },
  {
   "cell_type": "code",
   "execution_count": 6,
   "metadata": {},
   "outputs": [
    {
     "data": {
      "text/plain": [
       "4946.992725"
      ]
     },
     "execution_count": 6,
     "metadata": {},
     "output_type": "execute_result"
    }
   ],
   "source": [
    "price = 6799.99\n",
    "discount1 = price * 25 / 100\n",
    "new_price = price - discount1\n",
    "discount2 = new_price * 3 / 100\n",
    "new_price - discount2"
   ]
  },
  {
   "cell_type": "markdown",
   "metadata": {},
   "source": [
    "The first four instructions assign some values to some variables. The last line in the above cell contains an expression. Since we are in an _interactive environment_, expressions are evaluated immediately and the result of running the cell is the value of the last expression in the cell.\n",
    "\n",
    "Instead, we could have written the code like this:"
   ]
  },
  {
   "cell_type": "code",
   "execution_count": 7,
   "metadata": {},
   "outputs": [
    {
     "name": "stdout",
     "output_type": "stream",
     "text": [
      "The price after all the discounts is $4946.992725\n"
     ]
    }
   ],
   "source": [
    "price = 6799.99\n",
    "discount1 = price * 25 / 100\n",
    "new_price = price - discount1\n",
    "discount2 = new_price * 3 / 100\n",
    "print(\"The price after all the discounts is $\", new_price - discount2, sep=\"\")"
   ]
  },
  {
   "cell_type": "markdown",
   "metadata": {},
   "source": [
    "This time the `print` instruction _prints_ the value of the expression togehter with some decorating text while the system _returns nothing as the result of running the cell_ (there is no response of the system in the form of `Out[ ]:`).\n",
    "\n",
    "While working with interactive environments it is convenient to accept the following manner: we use `print` only when we have to display several values at once or if we wish to provide an explanation, as we did in the last example."
   ]
  },
  {
   "cell_type": "markdown",
   "metadata": {},
   "source": [
    "## 1.3. Libraries"
   ]
  },
  {
   "cell_type": "markdown",
   "metadata": {},
   "source": [
    "In modern programming languages, and Python is one of them, we can do incredible things simply because they all come with a myriad of _functions_ that someone has already prepared for us. This makes our lives much easier: most things that an average (and many above-average) users need have already been provided. We just have to find them!\n",
    "\n",
    "Since we are talking about thousands of functions, literaly, they have all been organized and packed into _libraries of functions_. For example, the library of maths functions is, unsurprisingly, called `math`. There we can find functions such as `sqrt` (which computes the _square root_), `sin` (which computes the _sine_ of an angle) and `cos` (which computes the _cosine_ of an angle), but also constants such as `pi` (which is, of course, an _approximation_ of $\\pi$).\n",
    "\n",
    "For example, the following computes the circumference of a circle:"
   ]
  },
  {
   "cell_type": "code",
   "execution_count": 8,
   "metadata": {},
   "outputs": [
    {
     "name": "stdout",
     "output_type": "stream",
     "text": [
      "Enter radius: 10\n",
      "The circumference is: 62.83185307179586\n"
     ]
    }
   ],
   "source": [
    "from math import pi\n",
    "r = float(input(\"Enter radius: \"))\n",
    "obim = 2 * r * pi\n",
    "print(\"The circumference is:\", obim)"
   ]
  },
  {
   "cell_type": "markdown",
   "metadata": {},
   "source": [
    "The first line in this example demonstrates how to import a particular element from a library:\n",
    "\n",
    "`from math import pi`\n",
    "\n",
    "instructs the environment to locate the library `math` and import `pi` from it.\n",
    "\n",
    "Here comes another example. We are going to write a Python program that computes the hypotenuse $c$ of a right triangle given its legs $a$ and $b$. Recall that, by Pythagoras, $c = \\sqrt{a^2 + b^2}$.\n",
    "\n",
    "We clearly need the function `sqrt` that computes the square root of a number. It's located in the library `math`, of course."
   ]
  },
  {
   "cell_type": "code",
   "execution_count": 9,
   "metadata": {},
   "outputs": [
    {
     "name": "stdout",
     "output_type": "stream",
     "text": [
      "a = 6\n",
      "b = 8\n",
      "c = 10.0\n"
     ]
    }
   ],
   "source": [
    "from math import sqrt\n",
    "a = float(input(\"a = \"))\n",
    "b = float(input(\"b = \"))\n",
    "c = sqrt(a**2 + b**2)\n",
    "print(\"c =\", c)"
   ]
  },
  {
   "cell_type": "markdown",
   "metadata": {},
   "source": [
    "The last two examples were complete computer programs: we got the input from the user using the `input` command, we processed the data, and then displayed the results using `print`.\n",
    "\n",
    "However, working in the interactive environment makes it possible for us to work with pieces of code that we can modify and execute as many times as we like. We can easily _experiment with data_, which is an important part of understanding _modern data analysis_. Instead of using the `input` command, we assign values to variables directly in the program, run the analysis, change the values assigned to variables, run the analysis again, and repeat the process as many times as needed.\n",
    "\n",
    "This philosophy applied to the last example (computing the hypotenuse of a right triangle) gives the following code:"
   ]
  },
  {
   "cell_type": "code",
   "execution_count": 10,
   "metadata": {},
   "outputs": [
    {
     "data": {
      "text/plain": [
       "5.0"
      ]
     },
     "execution_count": 10,
     "metadata": {},
     "output_type": "execute_result"
    }
   ],
   "source": [
    "from math import sqrt\n",
    "a, b = 3, 4\n",
    "sqrt(a**2 + b**2)"
   ]
  },
  {
   "cell_type": "markdown",
   "metadata": {},
   "source": [
    "Assignment `a, b = 3, 4` means that `a` becomes 3, while `b` becomes 4. The output of running the cell is the value of the expression `sqrt(a**2 + b**2)`."
   ]
  },
  {
   "cell_type": "markdown",
   "metadata": {},
   "source": [
    "## 1.4. Exercises"
   ]
  },
  {
   "cell_type": "markdown",
   "metadata": {},
   "source": [
    "**Exercise 1.** \n",
    "\n",
    "_(a)_ The price of a book was 24.60 EUR, and then the bookstore reduced the prices of all the books by 20%. What is the new price of the book?\n",
    "\n",
    "_(b)_ After the price reduction, the price of another book in the same bookstore was 14.80 EUR. What was the price of the book before the reduction?"
   ]
  },
  {
   "cell_type": "markdown",
   "metadata": {},
   "source": [
    "**Exercise 2.** It is estimated that on July 1st, 2019 the population of China was 1,420,062,022. It is also estimated that the population of China increases by 0.35% per year. Estimate the population of China in 2025 under the assumtion that these parameters will not change."
   ]
  },
  {
   "cell_type": "code",
   "execution_count": null,
   "metadata": {},
   "outputs": [],
   "source": []
  },
  {
   "cell_type": "markdown",
   "metadata": {},
   "source": [
    "**Exercise 3*.** It is estimated that on July 1st, 2019 the population of China was 1,420,062,022 and the population of India was 1,368,737,513. It is also estimated that the population of China increases by 0.35% per year, while the population of India increases by 1.08% per year. In how many years is India going to overtake China?"
   ]
  },
  {
   "cell_type": "code",
   "execution_count": null,
   "metadata": {},
   "outputs": [],
   "source": []
  },
  {
   "cell_type": "markdown",
   "metadata": {},
   "source": [
    "**Exercise 4.** Write a Python program that computes the area of a circle given its radius."
   ]
  },
  {
   "cell_type": "code",
   "execution_count": null,
   "metadata": {},
   "outputs": [],
   "source": []
  },
  {
   "cell_type": "markdown",
   "metadata": {},
   "source": [
    "**Exercise 5.** The distance between points $A(x_1, y_1)$ and $B(x_2, y_2)$ given by their coordinates in the Euclidean plane can be computed using the formula\n",
    "\n",
    "$$d(A, B) = \\sqrt{(x_1 - x_2)^2 + (y_1 - y_2)^2}$$\n",
    "\n",
    "Write a Python program that reads coordinates of two points and computes and then prints their distance."
   ]
  },
  {
   "cell_type": "code",
   "execution_count": null,
   "metadata": {},
   "outputs": [],
   "source": []
  },
  {
   "cell_type": "markdown",
   "metadata": {},
   "source": [
    "**Exercise 6.** The _factorial_ of a positive integer $n$ is the product of all the integers from 1 to $n$:\n",
    "\n",
    "$$n! = 1 \\cdot 2 \\cdot 3 \\cdot \\dots \\cdot n.$$\n",
    "\n",
    "Compute 200! and find the number of zeros it ends with. (Help: the library `math` contains the function `factorial` that might be helpful.)"
   ]
  },
  {
   "cell_type": "code",
   "execution_count": null,
   "metadata": {},
   "outputs": [],
   "source": []
  },
  {
   "cell_type": "markdown",
   "metadata": {},
   "source": [
    "**Exercise 7*.** Using the piece of Python code provided in the cell below find at least one more pair of positive integers $a$ and $b$ such that the hypotenuse of a right triangle with legs $a$ and $b$ is also an integer. Instead of `3, 4` enter another pair of integers and run the cell. Play with numbers!"
   ]
  },
  {
   "cell_type": "code",
   "execution_count": null,
   "metadata": {},
   "outputs": [],
   "source": [
    "from math import sqrt\n",
    "a, b = 3, 4\n",
    "sqrt(a**2 + b**2)"
   ]
  }
 ],
 "metadata": {
  "kernelspec": {
   "display_name": "Python 3",
   "language": "python",
   "name": "python3"
  },
  "language_info": {
   "codemirror_mode": {
    "name": "ipython",
    "version": 3
   },
   "file_extension": ".py",
   "mimetype": "text/x-python",
   "name": "python",
   "nbconvert_exporter": "python",
   "pygments_lexer": "ipython3",
   "version": "3.7.1"
  }
 },
 "nbformat": 4,
 "nbformat_minor": 2
}
