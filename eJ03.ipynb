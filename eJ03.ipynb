{
 "cells": [
  {
   "cell_type": "markdown",
   "metadata": {},
   "source": [
    "# 3. Bar charts and colors\n",
    "\n",
    "In this lecture we demonstrate:\n",
    "1. another way to move cells around a Jupyter notebook;\n",
    "2. how to visualize data using bar charts; and\n",
    "3. how to use colors in charts."
   ]
  },
  {
   "cell_type": "markdown",
   "metadata": {},
   "source": [
    "## 3.1. A bit more about Jupyter notebooks"
   ]
  },
  {
   "cell_type": "markdown",
   "metadata": {},
   "source": [
    "We have already on a few occasions said that each Jupyter notebook is a sequence of cells, and each cell can contain some text, an expression, or a Python program. Buttons at the top of the page make it possible for you to manipulate cells. We have already used the following buttons:\n",
    "\n",
    "- **Run** which runs a cell,\n",
    "- the dskette which saves the notebook,\n",
    "- **+** which adds a new cell below the active cell, and\n",
    "- up and down arrows which move the active cell.\n",
    "\n",
    "The following three buttons:\n",
    "\n",
    "![Three more buttons](pics/JupyterMenuCutCopyPaste.jpg)\n",
    "\n",
    "perform the usual actions _cut_ (cut the cell from the notebook and memorize it, button that looks like scissors), _copy_ (leave the cell in the notebook but memorize a copy of it, button that looks loke two sheets of paper) and _paste_ (insert the memorized cell, button that looks like placing a sheet of paper onto a clipboard).\n",
    "\n",
    "If you wish **move a cell:**\n",
    "1. click on the cell,\n",
    "2. click the _cut_  button (\"scissors\") to remove the cell from the notebook and memorize it,\n",
    "3. click somewhere else in the Jupyter notebook, and finally\n",
    "4. click the _paste_ button (\"placing a sheet of paper onto a clipboard\") to insert the memorized cell.\n",
    "\n",
    "This operation is briefly called _cut/paste_.\n",
    "\n",
    "If you wish **make a copy of a cell:**\n",
    "1. click on the cell,\n",
    "2. click the _copy_  button (\"two sheets of paper\") to memorize the cell,\n",
    "3. click somewhere else in the Jupyter notebook, and finally\n",
    "4. click the _paste_ button (\"placing a sheet of paper onto a clipboard\") to insert the memorized cell.\n",
    "\n",
    "This operation is briefly called _copy/paste_."
   ]
  },
  {
   "cell_type": "markdown",
   "metadata": {},
   "source": [
    "## 3.2. Bar charts"
   ]
  },
  {
   "cell_type": "markdown",
   "metadata": {},
   "source": [
    "Quite often it is more convenient to represent data by a sequence of bars instead of by a continuous line. Such charts are called _bar charts_ (for obvious reasons).\n",
    "\n",
    "Let us first import the library:"
   ]
  },
  {
   "cell_type": "code",
   "execution_count": 1,
   "metadata": {},
   "outputs": [],
   "source": [
    "import matplotlib.pyplot as plt"
   ]
  },
  {
   "cell_type": "markdown",
   "metadata": {},
   "source": [
    "After the import, the library is available in the notebook and there is no need to import it again. However, the import pertains to this notebook only.\n",
    "\n",
    "Assume that a these are the marks of a student:\n",
    "\n",
    "| Subject | Mark |\n",
    "|---------|-------|\n",
    "| Maths | 2 |\n",
    "| English | 4 |\n",
    "| Arts | 5 |\n",
    "| History | 3 |\n",
    "| PE | 5 |\n",
    "| Music | 4 |\n",
    "| Technology | 5 |\n",
    "\n",
    "We'll represent the data in terms of two lists like this:"
   ]
  },
  {
   "cell_type": "code",
   "execution_count": 2,
   "metadata": {},
   "outputs": [],
   "source": [
    "subjects = [\"Maths\", \"Eng\", \"Arts\", \"Hist\", \"PE\", \"Music\", \"Tech\"]\n",
    "marks    = [2,        4,     5,      3,      5,    4,       5    ]"
   ]
  },
  {
   "cell_type": "markdown",
   "metadata": {},
   "source": [
    "The function `bar` can be invoked to represent these data in the form of a bar chart:"
   ]
  },
  {
   "cell_type": "code",
   "execution_count": 3,
   "metadata": {},
   "outputs": [
    {
     "data": {
      "image/png": "[encoded data removed]",
      "text/plain": [
       "<Figure size 432x288 with 1 Axes>"
      ]
     },
     "metadata": {
      "needs_background": "light"
     },
     "output_type": "display_data"
    }
   ],
   "source": [
    "plt.bar(subjects, marks)\n",
    "plt.title(\"Marks of a student\")\n",
    "plt.show()\n",
    "plt.close()"
   ]
  },
  {
   "cell_type": "markdown",
   "metadata": {},
   "source": [
    "If you wish to resize the chart you can invoke the function `figure` with its parameter `figuresize` like this:"
   ]
  },
  {
   "cell_type": "code",
   "execution_count": 4,
   "metadata": {},
   "outputs": [
    {
     "data": {
      "image/png": "[encoded data removed]",
      "text/plain": [
       "<Figure size 720x360 with 1 Axes>"
      ]
     },
     "metadata": {
      "needs_background": "light"
     },
     "output_type": "display_data"
    }
   ],
   "source": [
    "plt.figure(figsize=(10,5))\n",
    "plt.bar(subjects, marks)\n",
    "plt.title(\"Marks of a student\")\n",
    "plt.show()\n",
    "plt.close()"
   ]
  },
  {
   "cell_type": "markdown",
   "metadata": {},
   "source": [
    "The `pyplot` library assigns colors to charts the way it finds appropriate. If we wish to change the color of a chart we can simply request another color by throwing in the `color` parameter as follows:"
   ]
  },
  {
   "cell_type": "code",
   "execution_count": 5,
   "metadata": {},
   "outputs": [
    {
     "data": {
      "image/png": "[encoded data removed]",
      "text/plain": [
       "<Figure size 720x360 with 1 Axes>"
      ]
     },
     "metadata": {
      "needs_background": "light"
     },
     "output_type": "display_data"
    }
   ],
   "source": [
    "plt.figure(figsize=(10,5))\n",
    "plt.bar(subjects, marks, color=\"g\")\n",
    "plt.title(\"Marks of a student\")\n",
    "plt.show()\n",
    "plt.close()"
   ]
  },
  {
   "cell_type": "markdown",
   "metadata": {},
   "source": [
    "The chart is now green (\"g\" = _green_). We have the following colors at our disposal:\n",
    "\n",
    "| Letter | Color |\n",
    "|-------|------------|\n",
    "|\"b\"|blue|\n",
    "|\"g\"|green|\n",
    "|\"r\"|red|\n",
    "|\"c\"|cyan|\n",
    "|\"m\"|magenta|\n",
    "|\"y\"|yellow|\n",
    "|\"k\"|black|\n",
    "|\"w\"|white|"
   ]
  },
  {
   "cell_type": "markdown",
   "metadata": {},
   "source": [
    "## 3.3. Displaying two sets of data on the same chart"
   ]
  },
  {
   "cell_type": "markdown",
   "metadata": {},
   "source": [
    "\"Normal body temperature\" is actually an interval of temperatures that changes with the age og the person. When measured in the armpit the interval of temperatures that is considered normal for an age is given the this table:\n",
    "\n",
    "| Age | Temperature ($^\\circ$C) |\n",
    "|--------|-----------------------------|\n",
    "| 0--2 years | 34.7--37.3 |\n",
    "| 3--10 years | 35.9--36.7 |\n",
    "| 11--65 years | 35.2--36.9 |\n",
    "| preko 65 years | 35.6--36.2 |\n",
    "\n",
    "The data can be represented as three lists:"
   ]
  },
  {
   "cell_type": "code",
   "execution_count": 6,
   "metadata": {},
   "outputs": [],
   "source": [
    "age        = [\"0-2\", \"3-10\", \"11-65\", \"65+\"]\n",
    "normalT_lo = [34.7,  35.9,   35.2,    35.6]\n",
    "normalT_hi = [37.3,  36.7,   36.9,    36.2]"
   ]
  },
  {
   "cell_type": "markdown",
   "metadata": {},
   "source": [
    "We shall visualize this situation on the same chart by invoking `bar` twice:"
   ]
  },
  {
   "cell_type": "code",
   "execution_count": 7,
   "metadata": {},
   "outputs": [
    {
     "data": {
      "image/png": "[encoded data removed]",
      "text/plain": [
       "<Figure size 432x288 with 1 Axes>"
      ]
     },
     "metadata": {
      "needs_background": "light"
     },
     "output_type": "display_data"
    }
   ],
   "source": [
    "plt.bar(age, normalT_hi)\n",
    "plt.bar(age, normalT_lo)\n",
    "plt.title(\"Normal body temperature by age\")\n",
    "plt.xlabel(\"Age (years)\")\n",
    "plt.ylabel(\"Temperature (C)\")\n",
    "plt.show()\n",
    "plt.close()"
   ]
  },
  {
   "cell_type": "markdown",
   "metadata": {},
   "source": [
    "Functions `xlabel` and `ylabel` add additional explanations to the $x$- and $y$-axis.\n",
    "\n",
    "Unfortunately, this chart is not very informative because the intervals we are trying to depict are relatively small. Since we would like to focus on _intervals_ of temperatures we can limit the range ov values that are represented by the $y$-axis. In this case, using the `ylim` ($y$-limits) function we are going to limit the range of the temperatures displayed to the interval $34-39^\\circ C$."
   ]
  },
  {
   "cell_type": "code",
   "execution_count": 8,
   "metadata": {},
   "outputs": [
    {
     "data": {
      "image/png": "[encoded data removed]",
      "text/plain": [
       "<Figure size 432x288 with 1 Axes>"
      ]
     },
     "metadata": {
      "needs_background": "light"
     },
     "output_type": "display_data"
    }
   ],
   "source": [
    "plt.ylim(34,39)\n",
    "plt.bar(age, normalT_hi)\n",
    "plt.bar(age, normalT_lo)\n",
    "plt.title(\"Normal body temperature by age\")\n",
    "plt.xlabel(\"Age (years)\")\n",
    "plt.ylabel(\"Temperature (C)\")\n",
    "plt.show()\n",
    "plt.close()"
   ]
  },
  {
   "cell_type": "markdown",
   "metadata": {},
   "source": [
    "Note also that the order of the two `bar` functions matters! The library draws bars representing data in the order in which they appear in the Python code. Since the values in the `normalT_hi` are greater that the values in `normalT_lo` the other possible ordering of the `bar` commands produces the chart in which the higher values are painted over the lower ones, which is not what we had in mind:"
   ]
  },
  {
   "cell_type": "code",
   "execution_count": 9,
   "metadata": {},
   "outputs": [
    {
     "data": {
      "image/png": "[encoded data removed]",
      "text/plain": [
       "<Figure size 432x288 with 1 Axes>"
      ]
     },
     "metadata": {
      "needs_background": "light"
     },
     "output_type": "display_data"
    }
   ],
   "source": [
    "plt.ylim(34,39)\n",
    "plt.bar(age, normalT_lo)\n",
    "plt.bar(age, normalT_hi)\n",
    "plt.title(\"Normal body temperature by age\")\n",
    "plt.xlabel(\"Age (years)\")\n",
    "plt.ylabel(\"Temperature (C)\")\n",
    "plt.show()\n",
    "plt.close()"
   ]
  },
  {
   "cell_type": "markdown",
   "metadata": {},
   "source": [
    "Therefore, we draw higher values first, and then paint the lover values over them:"
   ]
  },
  {
   "cell_type": "code",
   "execution_count": 10,
   "metadata": {},
   "outputs": [
    {
     "data": {
      "image/png": "[encoded data removed]",
      "text/plain": [
       "<Figure size 432x288 with 1 Axes>"
      ]
     },
     "metadata": {
      "needs_background": "light"
     },
     "output_type": "display_data"
    }
   ],
   "source": [
    "plt.ylim(34,39)\n",
    "plt.bar(age, normalT_hi)\n",
    "plt.bar(age, normalT_lo)\n",
    "plt.title(\"Normal body temperature by age\")\n",
    "plt.xlabel(\"Age (years)\")\n",
    "plt.ylabel(\"Temperature (C)\")\n",
    "plt.show()\n",
    "plt.close()"
   ]
  },
  {
   "cell_type": "markdown",
   "metadata": {},
   "source": [
    "For those who did not spend all this time to produce the diagram it may be unclear which values are represented by which color. This is why it is possible to add a legend to the chart. To do so, each `bar` command gets and extra parameter of the form `label=\"explanation\"` which provides a short explaination of what data are presented by the diagram. The function `legend` at the end puts a legend in one of the corners of the chart:"
   ]
  },
  {
   "cell_type": "code",
   "execution_count": 11,
   "metadata": {},
   "outputs": [
    {
     "data": {
      "image/png": "[encoded data removed]",
      "text/plain": [
       "<Figure size 432x288 with 1 Axes>"
      ]
     },
     "metadata": {
      "needs_background": "light"
     },
     "output_type": "display_data"
    }
   ],
   "source": [
    "plt.ylim(34,39)\n",
    "plt.bar(age, normalT_hi, label=\"upper limit\")\n",
    "plt.bar(age, normalT_lo, label=\"lower limit\")\n",
    "plt.title(\"Normal body temperature by age\")\n",
    "plt.xlabel(\"Age (years)\")\n",
    "plt.ylabel(\"Temperature (C)\")\n",
    "plt.legend()\n",
    "plt.show()\n",
    "plt.close()"
   ]
  },
  {
   "cell_type": "markdown",
   "metadata": {},
   "source": [
    "## 3.4. Exercises"
   ]
  },
  {
   "cell_type": "markdown",
   "metadata": {},
   "source": [
    "**Exercise 1.** Look at the code carefully and then answer the questions:"
   ]
  },
  {
   "cell_type": "code",
   "execution_count": 12,
   "metadata": {},
   "outputs": [
    {
     "data": {
      "image/png": "[encoded data removed]",
      "text/plain": [
       "<Figure size 432x288 with 1 Axes>"
      ]
     },
     "metadata": {
      "needs_background": "light"
     },
     "output_type": "display_data"
    }
   ],
   "source": [
    "import matplotlib.pyplot as plt\n",
    "plt.ylim(34,39)\n",
    "plt.bar(age, normalT_hi, label=\"upper limit\")\n",
    "plt.bar(age, normalT_lo, label=\"lower limit\")\n",
    "plt.title(\"Normal body temperature by age\")\n",
    "plt.xlabel(\"Age (years)\")\n",
    "plt.ylabel(\"Temperature (C)\")\n",
    "plt.legend()\n",
    "plt.show()\n",
    "plt.close()"
   ]
  },
  {
   "cell_type": "markdown",
   "metadata": {},
   "source": [
    "1. What does the function `bar` do?\n",
    "2. What happens if we swap the two lines of code containing the `bar` functions?\n",
    "3. What does the function `xlabel` do?\n",
    "4. What do the functions `ylim` and `legend` do?\n",
    "5. How would you change the size of this chart?\n",
    "6. How would you change the color of bars to green and yellow?"
   ]
  },
  {
   "cell_type": "markdown",
   "metadata": {},
   "source": [
    "**Exercise 2.** The first ten places on the ATP list on July 21st, 2109 look like this:"
   ]
  },
  {
   "cell_type": "code",
   "execution_count": 13,
   "metadata": {},
   "outputs": [],
   "source": [
    "tennis_players = [\"Đoković\", \"Nadal\", \"Federer\", \"Thiem\", \"Zverev\", \"Tsipras\", \"Nishikori\", \"Khachanov\", \"Fognini\", \"Medvedev\"]\n",
    "ATP_points     = [12415,      7945,    7460,      4595,   4325,     4045,       4040,        2890,        2785,      2625]"
   ]
  },
  {
   "cell_type": "markdown",
   "metadata": {},
   "source": [
    "Visualize this by a bar chart."
   ]
  },
  {
   "cell_type": "markdown",
   "metadata": {},
   "source": [
    "**Exercise 3.** The biologists have up to now classified more than 2,000,000 species of living beings. They are all divided into five kingdoms and the approximate number of species per kingdom is given in this table:\n",
    "\n",
    "| Kingdom  | Number of species |\n",
    "|--|--|\n",
    "| Animalia | 1,400,000 |\n",
    "| Plantae    | 290,000 |\n",
    "| Fungi    | 100,000 |\n",
    "| Protoctista | 200,000 |\n",
    "| Prokaryotae   | 10,000 |\n",
    "\n",
    "Visualize this data by a bar chart."
   ]
  },
  {
   "cell_type": "markdown",
   "metadata": {},
   "source": [
    "**Exercise 4.** The following table summarizes the highest and the lowest recorded temperatures (in $^\\circ$C) on each of the continents:\n",
    "\n",
    "|Continent:              | Europe | Asia  | Africa | North America   | South America | Australia  | Antarctica |\n",
    "|------------------------|--------|-------|--------|-----------------|---------------|------------|-----------|\n",
    "|Highest recorded temp:| 48     | 54    | 55     | 56.7            | 48.9          | 50.7       | 19.8      |\n",
    "|Lowest recorded temp:| -58.1  | -67.8 | -23.9  | -63             | -32.8         | -23        | -89.2     |\n",
    "\n",
    "Visualize the data on the same chart. Use red bars to display highest recorded temperatures, and blue bars for the lowest ones."
   ]
  },
  {
   "cell_type": "markdown",
   "metadata": {},
   "source": [
    "**Exercise 5.**\n",
    "\n",
    "_(a)_ Search the Internetu to find out what does the function `barh` from the library `matplotlib` do.\n",
    "\n",
    "_(b)_ Solve Exercise 4 using the barh function."
   ]
  },
  {
   "cell_type": "code",
   "execution_count": null,
   "metadata": {},
   "outputs": [],
   "source": []
  },
  {
   "cell_type": "markdown",
   "metadata": {},
   "source": [
    "**Exercise 6*.** It is estimated that on July 1st, 2019 the population of China was 1,420,062,022 and the population of India was 1,368,737,513. It is also estimated that the population of China increases by 0.35% per year, while the population of India increases by 1.08% per year.\n",
    "\n",
    "_(a)_ Assuming that the rate of increase of the population of both countries is not going to change in near future visualize the population of China and India in the following ten years on the same chart using the `plot` function.\n",
    "\n",
    "_(b)_ Read from the chart in which year is India going to overtake China as the most populated country on the Earth."
   ]
  },
  {
   "cell_type": "code",
   "execution_count": null,
   "metadata": {},
   "outputs": [],
   "source": []
  }
 ],
 "metadata": {
  "kernelspec": {
   "display_name": "Python 3",
   "language": "python",
   "name": "python3"
  },
  "language_info": {
   "codemirror_mode": {
    "name": "ipython",
    "version": 3
   },
   "file_extension": ".py",
   "mimetype": "text/x-python",
   "name": "python",
   "nbconvert_exporter": "python",
   "pygments_lexer": "ipython3",
   "version": "3.7.1"
  }
 },
 "nbformat": 4,
 "nbformat_minor": 2
}
