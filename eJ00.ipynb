{
 "cells": [
  {
   "cell_type": "markdown",
   "metadata": {},
   "source": [
    "# 0. Running Jupyter notebooks\n",
    "\n",
    "In this short lecture we show three ways to (download and) run Jupiter notebooks that accompany this course. This gives you the opportunity to go through the interactive version of the lectures and experiment with the examples we discuss in the course.\n",
    "\n",
    "We shall cover three possibilities to run Jupiter notebooks of this course:\n",
    "\n",
    "1. using the *Binder* service available at *mybinder.org* (this is convenient because there is no need to install new software on your computer or to create an account; the downside is that the changes you make while experimenting with the notebooks will *not* be saved);\n",
    "2. using the *Azure Notebooks* cloud service (this is convenient because there is no need to install new software on your computer; however, you are requested to create a free Microsoft account, but in return all the changes you make to the notebooks will be saved within your Microsoft account); and\n",
    "3. locally, on your computer (requires the installation of Python and Jupyter)."
   ]
  },
  {
   "cell_type": "markdown",
   "metadata": {},
   "source": [
    "## 0.1. Running Jupyter notebooks using the *Binder* service\n",
    "\n",
    "The easiest way to run Jupyter notebooks that accompany this course is to click on the link below:\n",
    "\n",
    "[https://mybinder.org/v2/gh/Petlja/JupyterBookEng/master](https://mybinder.org/v2/gh/Petlja/JupyterBookEng/master)\n",
    "\n",
    "![instalacija](pics/inst01.jpg)\n",
    "\n",
    "The service will make a fresh copy of the Jupyter notebooks for you and it will prepare the environment in which the notebooks can be executed. All this takes some time, however:\n",
    "\n",
    "![instalacija](pics/inst15.jpg)\n",
    "\n",
    "You will recognize that the preparation is over when your default web browser pops up and displays a page that looks like this:\n",
    "\n",
    "![instalacija](pics/inst02.jpg)\n",
    "\n",
    "You can now click each of the links to run the notebook in a new tab. Switch to the tab that contains the notebook and execute it step by step.\n",
    "\n",
    "This approach is convenient because there is no need to install new software on your computer or to create an account; the downside is that the changes you make while experimenting with the notebooks will *not* be saved. And preparing a fresh environment might take some time."
   ]
  },
  {
   "cell_type": "markdown",
   "metadata": {},
   "source": [
    "## 0.2.  Running Jupyter notebooks using the *Azure Notebooks* cloud service\n",
    "\n",
    "Jupyter notebooks that accompany this course can be executed in a cloud service such as *Azure Notebooks*. This makes it possible for you to save the changes you made to the notebooks in the cloud. There is no need to install new software on your computer, but you are requested to create a free Microsoft account (unless you already have one).\n",
    "\n",
    "**Step 1.** Click the following link:\n",
    "\n",
    "[https://notebooks.azure.com/](https://notebooks.azure.com/)\n",
    "\n",
    "and create a (*free!*) account (unless you already have one).\n",
    "\n",
    "![instalacija](pics/inst03.jpg)\n",
    "\n",
    "**Step 2.** After you log into *Azure Notebooks* go to *My Projects*\n",
    "\n",
    "![instalacija](pics/inst05.jpg)\n",
    "\n",
    "and choose *Upload Github Repo*:\n",
    "\n",
    "![instalacija](pics/inst07.jpg)\n",
    "\n",
    "\n",
    "**Step 3.** In the form that opens up locate the *GitHub repository* field and enter https://github.com/Petlja/JupyterBookEng (fill in the remaining fields in the form as you find convenient):\n",
    "\n",
    "![instalacija](pics/inst08.jpg)\n",
    "\n",
    "**Step 4.** Then click *Import*.\n",
    "\n",
    "The list of your projects will now show a new project that you can open and execute.\n",
    "\n",
    "![instalacija](pics/inst09.jpg)"
   ]
  },
  {
   "cell_type": "markdown",
   "metadata": {},
   "source": [
    "## 0.3. Running Jupyter notebooks locally, on your computer\n",
    "\n",
    "This is by far the most flexible way to run Jupyter notebooks, but in return it requires some preparations on your side.\n",
    "\n",
    "**Step 1.** Install Pyhton (unless you already have a Python installation).\n",
    "\n",
    "**Step 2.** Right-click on the following link\n",
    "\n",
    "[https://github.com/Petlja/JupyterBookEng/archive/master.zip](https://github.com/Petlja/JupyterBookEng/archive/master.zip)\n",
    "\n",
    "to download the `master.zip` file. Create a new folder and unzip the file there.\n",
    "\n",
    "![Instalacija](pics/inst10.jpg)\n",
    "\n",
    "Open a command window (*PowerShell*, say) within the folder:\n",
    "\n",
    "![Instalacija](pics/inst11.jpg)\n",
    "\n",
    "and execute the following command:\n",
    "\n",
    "    pip3 install -r requirements.txt\n",
    "\n",
    "![Instalacija](pics/inst12.jpg)\n",
    "\n",
    "In the same command window enter\n",
    "\n",
    "    jupyter notebook\n",
    "\n",
    "to start Jyputer:\n",
    "\n",
    "![Instalacija](pics/inst13.jpg)\n",
    "\n",
    "Your default web browser pops up and displays a page that looks like this:\n",
    "\n",
    "![instalacija](pics/inst14.jpg)\n",
    "\n",
    "You can now click each of the links to run the notebook in a new tab. Switch to the tab that contains the notebook and execute it step by step.\n"
   ]
  }
 ],
 "metadata": {
  "kernelspec": {
   "display_name": "Python 3",
   "language": "python",
   "name": "python3"
  },
  "language_info": {
   "codemirror_mode": {
    "name": "ipython",
    "version": 3
   },
   "file_extension": ".py",
   "mimetype": "text/x-python",
   "name": "python",
   "nbconvert_exporter": "python",
   "pygments_lexer": "ipython3",
   "version": "3.7.4"
  }
 },
 "nbformat": 4,
 "nbformat_minor": 2
}
